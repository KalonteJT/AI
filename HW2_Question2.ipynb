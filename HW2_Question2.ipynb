{
  "nbformat": 4,
  "nbformat_minor": 0,
  "metadata": {
    "colab": {
      "name": "HW2_Question2.ipynb",
      "provenance": [],
      "collapsed_sections": [],
      "include_colab_link": true
    },
    "kernelspec": {
      "name": "python3",
      "display_name": "Python 3"
    }
  },
  "cells": [
    {
      "cell_type": "markdown",
      "metadata": {
        "id": "view-in-github",
        "colab_type": "text"
      },
      "source": [
        "<a href=\"https://colab.research.google.com/github/KalonteJT/AI/blob/master/HW2_Question2.ipynb\" target=\"_parent\"><img src=\"https://colab.research.google.com/assets/colab-badge.svg\" alt=\"Open In Colab\"/></a>"
      ]
    },
    {
      "cell_type": "code",
      "metadata": {
        "id": "ftsZMbBnk8BS",
        "colab_type": "code",
        "colab": {
          "base_uri": "https://localhost:8080/",
          "height": 153
        },
        "outputId": "6c4da833-ab10-4777-da8f-402b06075cb0"
      },
      "source": [
        "import tensorflow as tf\n",
        "from tensorflow import keras\n",
        "fashion_mnist = keras.datasets.fashion_mnist\n",
        "(train_images, train_labels), (test_images,test_labels) = fashion_mnist.load_data()\n",
        "import matplotlib.pyplot as plt\n",
        "import numpy as np"
      ],
      "execution_count": 2,
      "outputs": [
        {
          "output_type": "stream",
          "text": [
            "Downloading data from https://storage.googleapis.com/tensorflow/tf-keras-datasets/train-labels-idx1-ubyte.gz\n",
            "32768/29515 [=================================] - 0s 0us/step\n",
            "Downloading data from https://storage.googleapis.com/tensorflow/tf-keras-datasets/train-images-idx3-ubyte.gz\n",
            "26427392/26421880 [==============================] - 0s 0us/step\n",
            "Downloading data from https://storage.googleapis.com/tensorflow/tf-keras-datasets/t10k-labels-idx1-ubyte.gz\n",
            "8192/5148 [===============================================] - 0s 0us/step\n",
            "Downloading data from https://storage.googleapis.com/tensorflow/tf-keras-datasets/t10k-images-idx3-ubyte.gz\n",
            "4423680/4422102 [==============================] - 0s 0us/step\n"
          ],
          "name": "stdout"
        }
      ]
    },
    {
      "cell_type": "code",
      "metadata": {
        "id": "lUefnJODrbMi",
        "colab_type": "code",
        "colab": {
          "base_uri": "https://localhost:8080/",
          "height": 34
        },
        "outputId": "12edff24-9b12-4ab9-951a-57e2b2b55d4e"
      },
      "source": [
        "train_images.shape\n"
      ],
      "execution_count": 5,
      "outputs": [
        {
          "output_type": "execute_result",
          "data": {
            "text/plain": [
              "(60000, 28, 28)"
            ]
          },
          "metadata": {
            "tags": []
          },
          "execution_count": 5
        }
      ]
    },
    {
      "cell_type": "code",
      "metadata": {
        "id": "tMytnZTKr0lm",
        "colab_type": "code",
        "colab": {
          "base_uri": "https://localhost:8080/",
          "height": 34
        },
        "outputId": "ae831380-05cb-4f06-d5f1-c347ddf47a61"
      },
      "source": [
        "len(train_images)"
      ],
      "execution_count": 7,
      "outputs": [
        {
          "output_type": "execute_result",
          "data": {
            "text/plain": [
              "60000"
            ]
          },
          "metadata": {
            "tags": []
          },
          "execution_count": 7
        }
      ]
    },
    {
      "cell_type": "code",
      "metadata": {
        "id": "VOTFPJSDr6W7",
        "colab_type": "code",
        "colab": {
          "base_uri": "https://localhost:8080/",
          "height": 34
        },
        "outputId": "fe94dd37-ec61-49a6-c7b8-3718a3767b0a"
      },
      "source": [
        "train_images.ndim"
      ],
      "execution_count": 8,
      "outputs": [
        {
          "output_type": "execute_result",
          "data": {
            "text/plain": [
              "3"
            ]
          },
          "metadata": {
            "tags": []
          },
          "execution_count": 8
        }
      ]
    },
    {
      "cell_type": "code",
      "metadata": {
        "id": "wmtL00KUr7X5",
        "colab_type": "code",
        "colab": {
          "base_uri": "https://localhost:8080/",
          "height": 34
        },
        "outputId": "99e9c6cb-4942-4345-bfd1-8ba9a63bb149"
      },
      "source": [
        "train_images.dtype"
      ],
      "execution_count": 9,
      "outputs": [
        {
          "output_type": "execute_result",
          "data": {
            "text/plain": [
              "dtype('uint8')"
            ]
          },
          "metadata": {
            "tags": []
          },
          "execution_count": 9
        }
      ]
    },
    {
      "cell_type": "code",
      "metadata": {
        "id": "l3r9Lspbr9yC",
        "colab_type": "code",
        "colab": {
          "base_uri": "https://localhost:8080/",
          "height": 34
        },
        "outputId": "3a494acc-8577-47a1-dfdb-126cce3ee5c3"
      },
      "source": [
        "train_labels"
      ],
      "execution_count": 10,
      "outputs": [
        {
          "output_type": "execute_result",
          "data": {
            "text/plain": [
              "array([9, 0, 0, ..., 3, 0, 5], dtype=uint8)"
            ]
          },
          "metadata": {
            "tags": []
          },
          "execution_count": 10
        }
      ]
    },
    {
      "cell_type": "code",
      "metadata": {
        "id": "0BAy7YrusAHr",
        "colab_type": "code",
        "colab": {
          "base_uri": "https://localhost:8080/",
          "height": 34
        },
        "outputId": "dfc22e58-1f2c-47cd-8e73-20fce260070e"
      },
      "source": [
        "len(train_labels)"
      ],
      "execution_count": 11,
      "outputs": [
        {
          "output_type": "execute_result",
          "data": {
            "text/plain": [
              "60000"
            ]
          },
          "metadata": {
            "tags": []
          },
          "execution_count": 11
        }
      ]
    },
    {
      "cell_type": "code",
      "metadata": {
        "id": "Ec6Qxq3Nrw6P",
        "colab_type": "code",
        "colab": {}
      },
      "source": [
        "class_names = ['T-shirt/top', 'Trouser', 'Pullover', 'Dress', 'Coat',\n",
        "               'Sandal', 'Shirt', 'Sneaker', 'Bag', 'Ankle boot']"
      ],
      "execution_count": 0,
      "outputs": []
    },
    {
      "cell_type": "code",
      "metadata": {
        "id": "h0xD1sowsPRa",
        "colab_type": "code",
        "colab": {}
      },
      "source": [
        "train_images = train_images / 255.0\n",
        "test_images = test_images / 255.0"
      ],
      "execution_count": 0,
      "outputs": []
    },
    {
      "cell_type": "markdown",
      "metadata": {
        "id": "FBpvgwBk0mUD",
        "colab_type": "text"
      },
      "source": [
        "**UNDERFIT**"
      ]
    },
    {
      "cell_type": "code",
      "metadata": {
        "id": "aNucH6xmsikp",
        "colab_type": "code",
        "colab": {
          "base_uri": "https://localhost:8080/",
          "height": 714
        },
        "outputId": "a0a31d85-a4d6-4021-bdfc-1291d512ce1c"
      },
      "source": [
        "# set up the layers\n",
        "\n",
        "model = keras.Sequential([\n",
        "    keras.layers.Flatten(input_shape=(28, 28)),\n",
        "    keras.layers.Dense(8, activation=tf.nn.relu),\n",
        "    keras.layers.Dense(12, activation=tf.nn.selu)\n",
        "])\n",
        "# compile the model\n",
        "\n",
        "model.compile(optimizer='adam',\n",
        "             loss='sparse_categorical_crossentropy',\n",
        "             metrics=['accuracy'])\n",
        "# train the model\n",
        "epochs = 20\n",
        "history = model.fit(train_images, \n",
        "                      train_labels, \n",
        "                      epochs=epochs,  \n",
        "                      validation_data=(test_images, test_labels))"
      ],
      "execution_count": 35,
      "outputs": [
        {
          "output_type": "stream",
          "text": [
            "Train on 60000 samples, validate on 10000 samples\n",
            "Epoch 1/20\n",
            "60000/60000 [==============================] - 3s 54us/sample - loss: 2.5955 - acc: 0.1164 - val_loss: 2.4870 - val_acc: 0.1000\n",
            "Epoch 2/20\n",
            "60000/60000 [==============================] - 3s 50us/sample - loss: 2.4850 - acc: 0.1002 - val_loss: 2.4872 - val_acc: 0.0999\n",
            "Epoch 3/20\n",
            "60000/60000 [==============================] - 3s 50us/sample - loss: 2.4851 - acc: 0.0997 - val_loss: 2.4866 - val_acc: 0.1000\n",
            "Epoch 4/20\n",
            "60000/60000 [==============================] - 3s 51us/sample - loss: 2.4849 - acc: 0.1001 - val_loss: 2.4866 - val_acc: 0.1000\n",
            "Epoch 5/20\n",
            "60000/60000 [==============================] - 3s 51us/sample - loss: 2.4849 - acc: 0.1001 - val_loss: 2.4866 - val_acc: 0.1000\n",
            "Epoch 6/20\n",
            "60000/60000 [==============================] - 3s 50us/sample - loss: 2.4849 - acc: 0.1001 - val_loss: 2.4866 - val_acc: 0.1000\n",
            "Epoch 7/20\n",
            "60000/60000 [==============================] - 3s 51us/sample - loss: 2.4849 - acc: 0.1001 - val_loss: 2.4866 - val_acc: 0.1000\n",
            "Epoch 8/20\n",
            "60000/60000 [==============================] - 3s 51us/sample - loss: 2.4849 - acc: 0.1001 - val_loss: 2.4866 - val_acc: 0.1000\n",
            "Epoch 9/20\n",
            "60000/60000 [==============================] - 3s 51us/sample - loss: 2.4849 - acc: 0.1001 - val_loss: 2.4866 - val_acc: 0.1000\n",
            "Epoch 10/20\n",
            "60000/60000 [==============================] - 3s 50us/sample - loss: 2.4849 - acc: 0.1001 - val_loss: 2.4866 - val_acc: 0.1000\n",
            "Epoch 11/20\n",
            "60000/60000 [==============================] - 3s 51us/sample - loss: 2.4849 - acc: 0.1001 - val_loss: 2.4866 - val_acc: 0.1000\n",
            "Epoch 12/20\n",
            "60000/60000 [==============================] - 3s 51us/sample - loss: 2.4849 - acc: 0.1001 - val_loss: 2.4866 - val_acc: 0.1000\n",
            "Epoch 13/20\n",
            "60000/60000 [==============================] - 3s 50us/sample - loss: 2.4849 - acc: 0.1001 - val_loss: 2.4866 - val_acc: 0.1000\n",
            "Epoch 14/20\n",
            "60000/60000 [==============================] - 3s 51us/sample - loss: 2.4849 - acc: 0.1001 - val_loss: 2.4866 - val_acc: 0.1000\n",
            "Epoch 15/20\n",
            "60000/60000 [==============================] - 3s 51us/sample - loss: 2.4849 - acc: 0.1001 - val_loss: 2.4866 - val_acc: 0.1000\n",
            "Epoch 16/20\n",
            "60000/60000 [==============================] - 3s 51us/sample - loss: 2.4849 - acc: 0.1001 - val_loss: 2.4866 - val_acc: 0.1000\n",
            "Epoch 17/20\n",
            "60000/60000 [==============================] - 3s 53us/sample - loss: 2.4849 - acc: 0.1001 - val_loss: 2.4866 - val_acc: 0.1000\n",
            "Epoch 18/20\n",
            "60000/60000 [==============================] - 3s 56us/sample - loss: 2.4849 - acc: 0.1001 - val_loss: 2.4866 - val_acc: 0.1000\n",
            "Epoch 19/20\n",
            "60000/60000 [==============================] - 3s 53us/sample - loss: 2.4849 - acc: 0.1001 - val_loss: 2.4866 - val_acc: 0.1000\n",
            "Epoch 20/20\n",
            "60000/60000 [==============================] - 3s 52us/sample - loss: 2.4849 - acc: 0.1001 - val_loss: 2.4866 - val_acc: 0.1000\n"
          ],
          "name": "stdout"
        }
      ]
    },
    {
      "cell_type": "code",
      "metadata": {
        "id": "r-xImUosus5x",
        "colab_type": "code",
        "colab": {
          "base_uri": "https://localhost:8080/",
          "height": 51
        },
        "outputId": "e299e224-c828-4126-d10f-b5f55cbf75fb"
      },
      "source": [
        "test_loss, test_acc = model.evaluate(test_images, test_labels)\n",
        "\n",
        "print('Test accuracy:', test_acc)"
      ],
      "execution_count": 36,
      "outputs": [
        {
          "output_type": "stream",
          "text": [
            "10000/10000 [==============================] - 0s 28us/sample - loss: 2.4866 - acc: 0.1000\n",
            "Test accuracy: 0.1\n"
          ],
          "name": "stdout"
        }
      ]
    },
    {
      "cell_type": "code",
      "metadata": {
        "id": "l4xJtOtcvEWD",
        "colab_type": "code",
        "colab": {}
      },
      "source": [
        "history_dict = history.history\n",
        "loss_values = history_dict['loss']\n",
        "test_loss_values = history_dict['val_loss']\n",
        "epochs_range = range(1, epochs+1)\n"
      ],
      "execution_count": 0,
      "outputs": []
    },
    {
      "cell_type": "code",
      "metadata": {
        "id": "650vUnigvQMJ",
        "colab_type": "code",
        "colab": {
          "base_uri": "https://localhost:8080/",
          "height": 295
        },
        "outputId": "adb3f2f7-d3cf-43a1-8e64-1f33705ccba6"
      },
      "source": [
        "plt.plot(epochs_range, loss_values, 'bo', label='Training loss')\n",
        "plt.plot(epochs_range, test_loss_values, 'ro', label='Test loss')\n",
        "plt.title('Training and test loss')\n",
        "plt.xlabel('Epochs')\n",
        "plt.ylabel('Loss')\n",
        "plt.legend()\n",
        "plt.show()"
      ],
      "execution_count": 38,
      "outputs": [
        {
          "output_type": "display_data",
          "data": {
            "image/png": "[encoded data removed]",
            "text/plain": [
              "<Figure size 432x288 with 1 Axes>"
            ]
          },
          "metadata": {
            "tags": []
          }
        }
      ]
    },
    {
      "cell_type": "code",
      "metadata": {
        "id": "u6LodwAFwzGp",
        "colab_type": "code",
        "colab": {
          "base_uri": "https://localhost:8080/",
          "height": 295
        },
        "outputId": "f15f9a3d-e0cc-4413-90eb-7d9ecff5cbb8"
      },
      "source": [
        "acc_values = history_dict['acc']\n",
        "test_acc_values = history_dict['val_acc']\n",
        "plt.plot(epochs_range, acc_values, 'go', label='Training accuracy')\n",
        "plt.plot(epochs_range, test_acc_values, 'yo', label='Test accuracy')\n",
        "plt.title('Training and test accuracy')\n",
        "plt.xlabel('Epochs')\n",
        "plt.ylabel('Accuracy')\n",
        "plt.legend()\n",
        "plt.show()"
      ],
      "execution_count": 39,
      "outputs": [
        {
          "output_type": "display_data",
          "data": {
            "image/png": "[encoded data removed]",
            "text/plain": [
              "<Figure size 432x288 with 1 Axes>"
            ]
          },
          "metadata": {
            "tags": []
          }
        }
      ]
    },
    {
      "cell_type": "markdown",
      "metadata": {
        "id": "q0SdMzUt0vU9",
        "colab_type": "text"
      },
      "source": [
        "**OVERFIT**"
      ]
    },
    {
      "cell_type": "code",
      "metadata": {
        "id": "LgGRZhT4xQYJ",
        "colab_type": "code",
        "colab": {
          "base_uri": "https://localhost:8080/",
          "height": 714
        },
        "outputId": "ea5642aa-02b3-4c5f-cc2f-a3798ced7c2f"
      },
      "source": [
        "# set up the layers\n",
        "\n",
        "model = keras.Sequential([\n",
        "    keras.layers.Flatten(input_shape=(28, 28)),\n",
        "    keras.layers.Dense(128, activation=tf.nn.relu),\n",
        "    keras.layers.Dense(64, activation=tf.nn.relu),\n",
        "    keras.layers.Dense(16, activation=tf.nn.softmax),\n",
        "])\n",
        "# compile the model\n",
        "model.compile(optimizer='adam',\n",
        "             loss='sparse_categorical_crossentropy',\n",
        "             metrics=['accuracy'])\n",
        "# train the model\n",
        "epochs = 20\n",
        "history = model.fit(train_images, \n",
        "                      train_labels, \n",
        "                      epochs=epochs,  \n",
        "                      validation_data=(test_images, test_labels))"
      ],
      "execution_count": 20,
      "outputs": [
        {
          "output_type": "stream",
          "text": [
            "Train on 60000 samples, validate on 10000 samples\n",
            "Epoch 1/20\n",
            "60000/60000 [==============================] - 5s 78us/sample - loss: 0.4991 - acc: 0.8225 - val_loss: 0.4461 - val_acc: 0.8402\n",
            "Epoch 2/20\n",
            "60000/60000 [==============================] - 4s 74us/sample - loss: 0.3704 - acc: 0.8657 - val_loss: 0.3866 - val_acc: 0.8632\n",
            "Epoch 3/20\n",
            "60000/60000 [==============================] - 5s 75us/sample - loss: 0.3344 - acc: 0.8773 - val_loss: 0.3792 - val_acc: 0.8674\n",
            "Epoch 4/20\n",
            "60000/60000 [==============================] - 4s 75us/sample - loss: 0.3094 - acc: 0.8850 - val_loss: 0.3431 - val_acc: 0.8772\n",
            "Epoch 5/20\n",
            "60000/60000 [==============================] - 4s 75us/sample - loss: 0.2926 - acc: 0.8908 - val_loss: 0.3346 - val_acc: 0.8808\n",
            "Epoch 6/20\n",
            "60000/60000 [==============================] - 5s 75us/sample - loss: 0.2778 - acc: 0.8955 - val_loss: 0.3500 - val_acc: 0.8766\n",
            "Epoch 7/20\n",
            "60000/60000 [==============================] - 4s 74us/sample - loss: 0.2640 - acc: 0.8997 - val_loss: 0.3544 - val_acc: 0.8767\n",
            "Epoch 8/20\n",
            "60000/60000 [==============================] - 4s 74us/sample - loss: 0.2568 - acc: 0.9042 - val_loss: 0.3422 - val_acc: 0.8789\n",
            "Epoch 9/20\n",
            "60000/60000 [==============================] - 4s 74us/sample - loss: 0.2462 - acc: 0.9068 - val_loss: 0.3296 - val_acc: 0.8850\n",
            "Epoch 10/20\n",
            "60000/60000 [==============================] - 4s 73us/sample - loss: 0.2352 - acc: 0.9097 - val_loss: 0.3463 - val_acc: 0.8835\n",
            "Epoch 11/20\n",
            "60000/60000 [==============================] - 5s 76us/sample - loss: 0.2268 - acc: 0.9139 - val_loss: 0.3313 - val_acc: 0.8874\n",
            "Epoch 12/20\n",
            "60000/60000 [==============================] - 5s 75us/sample - loss: 0.2222 - acc: 0.9158 - val_loss: 0.3283 - val_acc: 0.8901\n",
            "Epoch 13/20\n",
            "60000/60000 [==============================] - 5s 75us/sample - loss: 0.2150 - acc: 0.9174 - val_loss: 0.3525 - val_acc: 0.8837\n",
            "Epoch 14/20\n",
            "60000/60000 [==============================] - 4s 75us/sample - loss: 0.2092 - acc: 0.9197 - val_loss: 0.3403 - val_acc: 0.8886\n",
            "Epoch 15/20\n",
            "60000/60000 [==============================] - 5s 75us/sample - loss: 0.2033 - acc: 0.9219 - val_loss: 0.3393 - val_acc: 0.8879\n",
            "Epoch 16/20\n",
            "60000/60000 [==============================] - 5s 76us/sample - loss: 0.2000 - acc: 0.9244 - val_loss: 0.3409 - val_acc: 0.8853\n",
            "Epoch 17/20\n",
            "60000/60000 [==============================] - 4s 75us/sample - loss: 0.1899 - acc: 0.9263 - val_loss: 0.3556 - val_acc: 0.8805\n",
            "Epoch 18/20\n",
            "60000/60000 [==============================] - 5s 76us/sample - loss: 0.1882 - acc: 0.9282 - val_loss: 0.3596 - val_acc: 0.8872\n",
            "Epoch 19/20\n",
            "60000/60000 [==============================] - 4s 74us/sample - loss: 0.1822 - acc: 0.9301 - val_loss: 0.3614 - val_acc: 0.8876\n",
            "Epoch 20/20\n",
            "60000/60000 [==============================] - 4s 75us/sample - loss: 0.1792 - acc: 0.9315 - val_loss: 0.3454 - val_acc: 0.8918\n"
          ],
          "name": "stdout"
        }
      ]
    },
    {
      "cell_type": "code",
      "metadata": {
        "id": "FUhsBixyx25C",
        "colab_type": "code",
        "colab": {
          "base_uri": "https://localhost:8080/",
          "height": 51
        },
        "outputId": "65848ed7-f187-4a95-bdb8-e8bd6f64352b"
      },
      "source": [
        "test_loss, test_acc = model.evaluate(test_images, test_labels)\n",
        "\n",
        "print('Test accuracy:', test_acc)"
      ],
      "execution_count": 21,
      "outputs": [
        {
          "output_type": "stream",
          "text": [
            "10000/10000 [==============================] - 0s 32us/sample - loss: 0.3454 - acc: 0.8918\n",
            "Test accuracy: 0.8918\n"
          ],
          "name": "stdout"
        }
      ]
    },
    {
      "cell_type": "code",
      "metadata": {
        "id": "5e8PMOaVx7Of",
        "colab_type": "code",
        "colab": {
          "base_uri": "https://localhost:8080/",
          "height": 295
        },
        "outputId": "41fac5ad-3816-4600-bfd0-6dca7cc35b48"
      },
      "source": [
        "history_dict = history.history\n",
        "loss_values = history_dict['loss']\n",
        "test_loss_values = history_dict['val_loss']\n",
        "epochs_range = range(1, epochs+1)\n",
        "plt.plot(epochs_range, loss_values, 'bo', label='Training loss')\n",
        "plt.plot(epochs_range, test_loss_values, 'ro', label='Test loss')\n",
        "plt.title('Training and test loss')\n",
        "plt.xlabel('Epochs')\n",
        "plt.ylabel('Loss')\n",
        "plt.legend()\n",
        "plt.show()"
      ],
      "execution_count": 22,
      "outputs": [
        {
          "output_type": "display_data",
          "data": {
            "image/png": "[encoded data removed]",
            "text/plain": [
              "<Figure size 432x288 with 1 Axes>"
            ]
          },
          "metadata": {
            "tags": []
          }
        }
      ]
    },
    {
      "cell_type": "code",
      "metadata": {
        "id": "lBxACq2syAQg",
        "colab_type": "code",
        "colab": {
          "base_uri": "https://localhost:8080/",
          "height": 295
        },
        "outputId": "fa88d076-a0d3-4408-a669-70ed75fb4b39"
      },
      "source": [
        "acc_values = history_dict['acc']\n",
        "test_acc_values = history_dict['val_acc']\n",
        "plt.plot(epochs_range, acc_values, 'go', label='Training accuracy')\n",
        "plt.plot(epochs_range, test_acc_values, 'yo', label='Test accuracy')\n",
        "plt.title('Training and test accuracy')\n",
        "plt.xlabel('Epochs')\n",
        "plt.ylabel('Accuracy')\n",
        "plt.legend()\n",
        "plt.show()"
      ],
      "execution_count": 33,
      "outputs": [
        {
          "output_type": "display_data",
          "data": {
            "image/png": "[encoded data removed]",
            "text/plain": [
              "<Figure size 432x288 with 1 Axes>"
            ]
          },
          "metadata": {
            "tags": []
          }
        }
      ]
    },
    {
      "cell_type": "markdown",
      "metadata": {
        "id": "duN6DY9S0zUV",
        "colab_type": "text"
      },
      "source": [
        "**BETTER_FIT**"
      ]
    },
    {
      "cell_type": "code",
      "metadata": {
        "id": "fL7Wcve_yD7X",
        "colab_type": "code",
        "colab": {
          "base_uri": "https://localhost:8080/",
          "height": 442
        },
        "outputId": "eb560d3c-fedf-4bb2-ae71-8933deeb68c9"
      },
      "source": [
        "keep_prob = tf.placeholder(tf.float32)\n",
        "\n",
        "# set up the layers\n",
        "\n",
        "model = keras.Sequential([\n",
        "    keras.layers.Flatten(input_shape=(28, 28)),\n",
        "    keras.layers.Dense(128, activation=tf.nn.relu),\n",
        "    keras.layers.Dense(64, activation=tf.nn.relu),\n",
        "    #Placing the drop out here\n",
        "    keras.layers.Dropout(.5),\n",
        "    keras.layers.Dense(32, activation=tf.nn.softmax),\n",
        "    keras.layers.Dense(16, activation=tf.nn.softmax)\n",
        "])\n",
        "\n",
        "# compile the model\n",
        "\n",
        "model.compile(optimizer='adam',\n",
        "             loss='sparse_categorical_crossentropy',\n",
        "             metrics=['accuracy'])\n",
        "\n",
        "# train the model \n",
        "epochs = 12\n",
        "history = model.fit(train_images, \n",
        "                      train_labels, \n",
        "                      epochs=epochs,  \n",
        "                      validation_data=(test_images, test_labels))"
      ],
      "execution_count": 25,
      "outputs": [
        {
          "output_type": "stream",
          "text": [
            "Train on 60000 samples, validate on 10000 samples\n",
            "Epoch 1/12\n",
            "60000/60000 [==============================] - 5s 87us/sample - loss: 1.8048 - acc: 0.3652 - val_loss: 1.4462 - val_acc: 0.3816\n",
            "Epoch 2/12\n",
            "60000/60000 [==============================] - 5s 85us/sample - loss: 1.3071 - acc: 0.4180 - val_loss: 1.1086 - val_acc: 0.4802\n",
            "Epoch 3/12\n",
            "60000/60000 [==============================] - 5s 86us/sample - loss: 1.0270 - acc: 0.4802 - val_loss: 0.9755 - val_acc: 0.4978\n",
            "Epoch 4/12\n",
            "60000/60000 [==============================] - 5s 86us/sample - loss: 0.9497 - acc: 0.5138 - val_loss: 0.9066 - val_acc: 0.5909\n",
            "Epoch 5/12\n",
            "60000/60000 [==============================] - 5s 84us/sample - loss: 0.8467 - acc: 0.6190 - val_loss: 0.8053 - val_acc: 0.6371\n",
            "Epoch 6/12\n",
            "60000/60000 [==============================] - 5s 83us/sample - loss: 0.7763 - acc: 0.6707 - val_loss: 0.7442 - val_acc: 0.7076\n",
            "Epoch 7/12\n",
            "60000/60000 [==============================] - 5s 84us/sample - loss: 0.6943 - acc: 0.7563 - val_loss: 0.6677 - val_acc: 0.7812\n",
            "Epoch 8/12\n",
            "60000/60000 [==============================] - 5s 85us/sample - loss: 0.6088 - acc: 0.7962 - val_loss: 0.5915 - val_acc: 0.8058\n",
            "Epoch 9/12\n",
            "60000/60000 [==============================] - 5s 84us/sample - loss: 0.5486 - acc: 0.8108 - val_loss: 0.5643 - val_acc: 0.8057\n",
            "Epoch 10/12\n",
            "60000/60000 [==============================] - 5s 85us/sample - loss: 0.5102 - acc: 0.8253 - val_loss: 0.5193 - val_acc: 0.8214\n",
            "Epoch 11/12\n",
            "60000/60000 [==============================] - 5s 84us/sample - loss: 0.4726 - acc: 0.8536 - val_loss: 0.4954 - val_acc: 0.8558\n",
            "Epoch 12/12\n",
            "60000/60000 [==============================] - 5s 84us/sample - loss: 0.4360 - acc: 0.8698 - val_loss: 0.4607 - val_acc: 0.8609\n"
          ],
          "name": "stdout"
        }
      ]
    },
    {
      "cell_type": "code",
      "metadata": {
        "id": "tT4m7oYXzUqZ",
        "colab_type": "code",
        "colab": {
          "base_uri": "https://localhost:8080/",
          "height": 51
        },
        "outputId": "7db38c6a-d9fa-46ca-d04d-1213b10dceb4"
      },
      "source": [
        "test_loss, test_acc = model.evaluate(test_images, test_labels)\n",
        "\n",
        "print('Test accuracy:', test_acc)"
      ],
      "execution_count": 26,
      "outputs": [
        {
          "output_type": "stream",
          "text": [
            "10000/10000 [==============================] - 0s 35us/sample - loss: 0.4607 - acc: 0.8609\n",
            "Test accuracy: 0.8609\n"
          ],
          "name": "stdout"
        }
      ]
    },
    {
      "cell_type": "code",
      "metadata": {
        "id": "Md8tHs1SzY70",
        "colab_type": "code",
        "colab": {
          "base_uri": "https://localhost:8080/",
          "height": 295
        },
        "outputId": "f474a165-3e81-478b-a1f3-f9c125f63904"
      },
      "source": [
        "history_dict = history.history\n",
        "loss_values = history_dict['loss']\n",
        "test_loss_values = history_dict['val_loss']\n",
        "epochs_range = range(1, epochs+1)\n",
        "plt.plot(epochs_range, loss_values, 'bo', label='Training loss')\n",
        "plt.plot(epochs_range, test_loss_values, 'ro', label='Test loss')\n",
        "plt.title('Training and test loss')\n",
        "plt.xlabel('Epochs')\n",
        "plt.ylabel('Loss')\n",
        "plt.legend()\n",
        "plt.show()"
      ],
      "execution_count": 27,
      "outputs": [
        {
          "output_type": "display_data",
          "data": {
            "image/png": "[encoded data removed]",
            "text/plain": [
              "<Figure size 432x288 with 1 Axes>"
            ]
          },
          "metadata": {
            "tags": []
          }
        }
      ]
    },
    {
      "cell_type": "code",
      "metadata": {
        "id": "Gljtyubtzc05",
        "colab_type": "code",
        "colab": {
          "base_uri": "https://localhost:8080/",
          "height": 295
        },
        "outputId": "9e38e1c4-9527-480b-f230-bd2e6d12d94d"
      },
      "source": [
        "acc_values = history_dict['acc']\n",
        "test_acc_values = history_dict['val_acc']\n",
        "plt.plot(epochs_range, acc_values, 'go', label='Training accuracy')\n",
        "plt.plot(epochs_range, test_acc_values, 'yo', label='Test accuracy')\n",
        "plt.title('Training and test accuracy')\n",
        "plt.xlabel('Epochs')\n",
        "plt.ylabel('Accuracy')\n",
        "plt.legend()\n",
        "plt.show()"
      ],
      "execution_count": 32,
      "outputs": [
        {
          "output_type": "display_data",
          "data": {
            "image/png": "[encoded data removed]",
            "text/plain": [
              "<Figure size 432x288 with 1 Axes>"
            ]
          },
          "metadata": {
            "tags": []
          }
        }
      ]
    }
  ]
}